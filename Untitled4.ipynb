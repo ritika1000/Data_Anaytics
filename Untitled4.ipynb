{
  "nbformat": 4,
  "nbformat_minor": 0,
  "metadata": {
    "colab": {
      "provenance": []
    },
    "kernelspec": {
      "name": "python3",
      "display_name": "Python 3"
    },
    "language_info": {
      "name": "python"
    }
  },
  "cells": [
    {
      "cell_type": "code",
      "execution_count": null,
      "metadata": {
        "id": "CQREVvjRd7Uw"
      },
      "outputs": [],
      "source": [
        "#Import Library\n",
        "import pandas as pd\n",
        "import numpy as np\n",
        "import matplotlib.pyplot as plt"
      ]
    },
    {
      "cell_type": "code",
      "source": [
        "from sklearn.datasets import load_digits"
      ],
      "metadata": {
        "id": "wrIDguvAeC1A"
      },
      "execution_count": null,
      "outputs": []
    },
    {
      "cell_type": "code",
      "source": [
        "df = load_digits()"
      ],
      "metadata": {
        "id": "Xoc9QVFNeNBL"
      },
      "execution_count": null,
      "outputs": []
    },
    {
      "cell_type": "code",
      "source": [
        "_, axes = plt.subplots(nrows=1,ncols=4,figsize=(10,3))\n",
        "for ax, image, label in zip(axes,df.images,df.target):\n",
        "  ax.set_axis_off()\n",
        "  ax.imshow(image,cmap=plt.cm.gray_r,interpolation=\"nearest\")\n",
        "  ax.set_title(\"Training : %i\" %label)"
      ],
      "metadata": {
        "colab": {
          "base_uri": "https://localhost:8080/",
          "height": 227
        },
        "id": "GzLMaV6GeNEq",
        "outputId": "572d606c-2999-49d2-ba8f-82efa0b9bd80"
      },
      "execution_count": null,
      "outputs": [
        {
          "output_type": "display_data",
          "data": {
            "text/plain": [
              "<Figure size 1000x300 with 4 Axes>"
            ],
            "image/png": "[encoded data removed]"
          },
          "metadata": {}
        }
      ]
    },
    {
      "cell_type": "code",
      "source": [
        "#data preprocessing\n",
        "df.images.shape"
      ],
      "metadata": {
        "colab": {
          "base_uri": "https://localhost:8080/"
        },
        "id": "xeHohAH7e1H8",
        "outputId": "3d6f33d5-9da6-46cc-e475-db0d2049ca90"
      },
      "execution_count": null,
      "outputs": [
        {
          "output_type": "execute_result",
          "data": {
            "text/plain": [
              "(1797, 8, 8)"
            ]
          },
          "metadata": {},
          "execution_count": 5
        }
      ]
    },
    {
      "cell_type": "code",
      "source": [
        "df.images[0]"
      ],
      "metadata": {
        "colab": {
          "base_uri": "https://localhost:8080/"
        },
        "id": "Vtt4ELoTe1LU",
        "outputId": "2ebed3aa-7374-4948-f11f-1a507c6f89a8"
      },
      "execution_count": null,
      "outputs": [
        {
          "output_type": "execute_result",
          "data": {
            "text/plain": [
              "array([[ 0.,  0.,  5., 13.,  9.,  1.,  0.,  0.],\n",
              "       [ 0.,  0., 13., 15., 10., 15.,  5.,  0.],\n",
              "       [ 0.,  3., 15.,  2.,  0., 11.,  8.,  0.],\n",
              "       [ 0.,  4., 12.,  0.,  0.,  8.,  8.,  0.],\n",
              "       [ 0.,  5.,  8.,  0.,  0.,  9.,  8.,  0.],\n",
              "       [ 0.,  4., 11.,  0.,  1., 12.,  7.,  0.],\n",
              "       [ 0.,  2., 14.,  5., 10., 12.,  0.,  0.],\n",
              "       [ 0.,  0.,  6., 13., 10.,  0.,  0.,  0.]])"
            ]
          },
          "metadata": {},
          "execution_count": 6
        }
      ]
    },
    {
      "cell_type": "code",
      "source": [
        "df.images[0].shape"
      ],
      "metadata": {
        "colab": {
          "base_uri": "https://localhost:8080/"
        },
        "id": "IAjQYVGFfBiQ",
        "outputId": "6cdb74c3-a370-46eb-f8d9-fdb69231649e"
      },
      "execution_count": null,
      "outputs": [
        {
          "output_type": "execute_result",
          "data": {
            "text/plain": [
              "(8, 8)"
            ]
          },
          "metadata": {},
          "execution_count": 7
        }
      ]
    },
    {
      "cell_type": "code",
      "source": [
        "len(df.images)"
      ],
      "metadata": {
        "colab": {
          "base_uri": "https://localhost:8080/"
        },
        "id": "qBfoQY4OfBkn",
        "outputId": "1776fe90-29f9-4374-c444-67d01764cd85"
      },
      "execution_count": null,
      "outputs": [
        {
          "output_type": "execute_result",
          "data": {
            "text/plain": [
              "1797"
            ]
          },
          "metadata": {},
          "execution_count": 9
        }
      ]
    },
    {
      "cell_type": "code",
      "source": [
        "n_samples=len(df.images)\n",
        "data=df.images.reshape((n_samples,-1))"
      ],
      "metadata": {
        "id": "ayxDhxt5fIuZ"
      },
      "execution_count": null,
      "outputs": []
    },
    {
      "cell_type": "code",
      "source": [
        "data[0]"
      ],
      "metadata": {
        "colab": {
          "base_uri": "https://localhost:8080/"
        },
        "id": "rj_8XS36fIx9",
        "outputId": "63e95f41-697b-4383-dc6d-8c01dd190ee5"
      },
      "execution_count": null,
      "outputs": [
        {
          "output_type": "execute_result",
          "data": {
            "text/plain": [
              "array([ 0.,  0.,  5., 13.,  9.,  1.,  0.,  0.,  0.,  0., 13., 15., 10.,\n",
              "       15.,  5.,  0.,  0.,  3., 15.,  2.,  0., 11.,  8.,  0.,  0.,  4.,\n",
              "       12.,  0.,  0.,  8.,  8.,  0.,  0.,  5.,  8.,  0.,  0.,  9.,  8.,\n",
              "        0.,  0.,  4., 11.,  0.,  1., 12.,  7.,  0.,  0.,  2., 14.,  5.,\n",
              "       10., 12.,  0.,  0.,  0.,  0.,  6., 13., 10.,  0.,  0.,  0.])"
            ]
          },
          "metadata": {},
          "execution_count": 11
        }
      ]
    },
    {
      "cell_type": "code",
      "source": [
        "data[0].shape"
      ],
      "metadata": {
        "colab": {
          "base_uri": "https://localhost:8080/"
        },
        "id": "r0Cn1xc7fBoG",
        "outputId": "34f193ba-e6cb-499f-b6fd-29ac0be13f47"
      },
      "execution_count": null,
      "outputs": [
        {
          "output_type": "execute_result",
          "data": {
            "text/plain": [
              "(64,)"
            ]
          },
          "metadata": {},
          "execution_count": 12
        }
      ]
    },
    {
      "cell_type": "code",
      "source": [
        "#SCALING IMAGE DATA\n",
        "data.min()"
      ],
      "metadata": {
        "colab": {
          "base_uri": "https://localhost:8080/"
        },
        "id": "WqEHpVVbfWBQ",
        "outputId": "73b530e8-14f2-405a-fb04-6e3ae7a05695"
      },
      "execution_count": null,
      "outputs": [
        {
          "output_type": "execute_result",
          "data": {
            "text/plain": [
              "0.0"
            ]
          },
          "metadata": {},
          "execution_count": 13
        }
      ]
    },
    {
      "cell_type": "code",
      "source": [
        "data.max()"
      ],
      "metadata": {
        "colab": {
          "base_uri": "https://localhost:8080/"
        },
        "id": "raGz8HZdfcKs",
        "outputId": "e036044b-b7ee-4e57-9055-f03940b48788"
      },
      "execution_count": null,
      "outputs": [
        {
          "output_type": "execute_result",
          "data": {
            "text/plain": [
              "16.0"
            ]
          },
          "metadata": {},
          "execution_count": 14
        }
      ]
    },
    {
      "cell_type": "code",
      "source": [
        "data=data/16"
      ],
      "metadata": {
        "id": "9i4laQncfbnP"
      },
      "execution_count": null,
      "outputs": []
    },
    {
      "cell_type": "code",
      "source": [
        "data.min()"
      ],
      "metadata": {
        "colab": {
          "base_uri": "https://localhost:8080/"
        },
        "id": "ORJHkazIfbqw",
        "outputId": "0affd1cf-c4d7-41ef-f758-353564009c5a"
      },
      "execution_count": null,
      "outputs": [
        {
          "output_type": "execute_result",
          "data": {
            "text/plain": [
              "0.0"
            ]
          },
          "metadata": {},
          "execution_count": 16
        }
      ]
    },
    {
      "cell_type": "code",
      "source": [
        "data.max()"
      ],
      "metadata": {
        "colab": {
          "base_uri": "https://localhost:8080/"
        },
        "id": "aYi9ev0wfkmH",
        "outputId": "711fbdbc-99e9-4f93-c135-fead338f3817"
      },
      "execution_count": null,
      "outputs": [
        {
          "output_type": "execute_result",
          "data": {
            "text/plain": [
              "1.0"
            ]
          },
          "metadata": {},
          "execution_count": 17
        }
      ]
    },
    {
      "cell_type": "code",
      "source": [
        "data[0]"
      ],
      "metadata": {
        "colab": {
          "base_uri": "https://localhost:8080/"
        },
        "id": "AmxzNVntfnrM",
        "outputId": "8b56f3c7-3b9a-420a-f4e2-8dbbd27ca849"
      },
      "execution_count": null,
      "outputs": [
        {
          "output_type": "execute_result",
          "data": {
            "text/plain": [
              "array([0.    , 0.    , 0.3125, 0.8125, 0.5625, 0.0625, 0.    , 0.    ,\n",
              "       0.    , 0.    , 0.8125, 0.9375, 0.625 , 0.9375, 0.3125, 0.    ,\n",
              "       0.    , 0.1875, 0.9375, 0.125 , 0.    , 0.6875, 0.5   , 0.    ,\n",
              "       0.    , 0.25  , 0.75  , 0.    , 0.    , 0.5   , 0.5   , 0.    ,\n",
              "       0.    , 0.3125, 0.5   , 0.    , 0.    , 0.5625, 0.5   , 0.    ,\n",
              "       0.    , 0.25  , 0.6875, 0.    , 0.0625, 0.75  , 0.4375, 0.    ,\n",
              "       0.    , 0.125 , 0.875 , 0.3125, 0.625 , 0.75  , 0.    , 0.    ,\n",
              "       0.    , 0.    , 0.375 , 0.8125, 0.625 , 0.    , 0.    , 0.    ])"
            ]
          },
          "metadata": {},
          "execution_count": 18
        }
      ]
    },
    {
      "cell_type": "code",
      "source": [
        "#TRAIN TEST SPLIT DATA\n",
        "from sklearn.model_selection import train_test_split"
      ],
      "metadata": {
        "id": "RIVe8-aifpoX"
      },
      "execution_count": null,
      "outputs": []
    },
    {
      "cell_type": "code",
      "source": [
        "X_train,X_test,y_train,y_test=train_test_split(data,df.target,test_size=0.3)"
      ],
      "metadata": {
        "id": "ZRMD-zwQfpq4"
      },
      "execution_count": null,
      "outputs": []
    },
    {
      "cell_type": "code",
      "source": [
        "X_train,X_test,y_train,y_test"
      ],
      "metadata": {
        "colab": {
          "base_uri": "https://localhost:8080/"
        },
        "id": "UKzAGoRrfpuf",
        "outputId": "4105e9c0-9d14-4a96-8c32-8ff9d8b3ba03"
      },
      "execution_count": null,
      "outputs": [
        {
          "output_type": "execute_result",
          "data": {
            "text/plain": [
              "(array([[0.    , 0.    , 0.3125, ..., 0.    , 0.    , 0.    ],\n",
              "        [0.    , 0.0625, 0.5   , ..., 0.    , 0.    , 0.    ],\n",
              "        [0.    , 0.    , 0.0625, ..., 0.75  , 0.375 , 0.    ],\n",
              "        ...,\n",
              "        [0.    , 0.0625, 0.8125, ..., 0.1875, 0.    , 0.    ],\n",
              "        [0.    , 0.    , 0.    , ..., 0.    , 0.    , 0.    ],\n",
              "        [0.    , 0.    , 0.    , ..., 0.5625, 0.    , 0.    ]]),\n",
              " array([[0.    , 0.    , 0.    , ..., 0.9375, 0.125 , 0.    ],\n",
              "        [0.    , 0.    , 0.375 , ..., 0.    , 0.    , 0.    ],\n",
              "        [0.    , 0.25  , 0.9375, ..., 1.    , 0.5625, 0.    ],\n",
              "        ...,\n",
              "        [0.    , 0.0625, 0.9375, ..., 0.3125, 0.0625, 0.    ],\n",
              "        [0.    , 0.    , 0.    , ..., 0.5625, 0.    , 0.    ],\n",
              "        [0.    , 0.    , 0.1875, ..., 0.375 , 0.    , 0.    ]]),\n",
              " array([8, 5, 6, ..., 5, 4, 6]),\n",
              " array([6, 7, 2, 6, 4, 8, 1, 2, 8, 9, 9, 6, 6, 6, 1, 8, 7, 1, 0, 6, 9, 7,\n",
              "        3, 2, 0, 5, 5, 0, 0, 9, 7, 5, 8, 9, 7, 6, 2, 4, 0, 8, 1, 2, 7, 7,\n",
              "        2, 8, 4, 7, 7, 6, 2, 9, 5, 0, 1, 8, 7, 1, 4, 8, 4, 1, 8, 5, 8, 0,\n",
              "        7, 1, 5, 5, 0, 4, 9, 6, 2, 0, 0, 2, 6, 1, 5, 1, 3, 5, 2, 9, 3, 4,\n",
              "        2, 4, 1, 1, 9, 5, 7, 5, 1, 6, 1, 3, 3, 2, 9, 5, 4, 0, 8, 5, 9, 9,\n",
              "        1, 8, 1, 2, 6, 0, 8, 1, 4, 4, 3, 4, 7, 8, 4, 6, 5, 0, 0, 3, 3, 0,\n",
              "        0, 7, 7, 3, 7, 7, 8, 1, 4, 6, 2, 2, 9, 3, 7, 5, 0, 3, 2, 9, 8, 3,\n",
              "        0, 2, 6, 6, 6, 6, 6, 5, 2, 6, 5, 9, 2, 5, 4, 2, 9, 6, 9, 5, 0, 4,\n",
              "        3, 8, 7, 4, 2, 7, 9, 1, 7, 2, 9, 5, 0, 5, 0, 6, 6, 8, 4, 9, 2, 3,\n",
              "        2, 5, 5, 0, 9, 5, 2, 7, 8, 1, 5, 7, 8, 5, 9, 1, 4, 8, 8, 4, 3, 0,\n",
              "        9, 3, 1, 7, 2, 5, 4, 2, 1, 8, 0, 2, 8, 9, 3, 2, 3, 6, 3, 7, 0, 2,\n",
              "        7, 8, 0, 6, 2, 3, 1, 3, 5, 3, 8, 3, 3, 3, 6, 6, 0, 1, 1, 5, 1, 7,\n",
              "        9, 1, 1, 8, 8, 5, 4, 0, 5, 3, 5, 4, 5, 4, 6, 2, 4, 7, 6, 4, 8, 7,\n",
              "        7, 0, 7, 1, 3, 4, 7, 4, 5, 3, 6, 6, 2, 5, 2, 2, 0, 0, 8, 3, 3, 0,\n",
              "        3, 1, 6, 4, 7, 3, 1, 4, 1, 6, 1, 3, 1, 4, 2, 0, 7, 1, 5, 1, 9, 7,\n",
              "        0, 0, 4, 2, 8, 7, 6, 7, 5, 4, 6, 7, 9, 8, 1, 7, 9, 2, 4, 5, 2, 9,\n",
              "        8, 1, 7, 5, 1, 3, 5, 9, 7, 4, 4, 6, 4, 7, 1, 3, 8, 0, 9, 5, 6, 1,\n",
              "        4, 7, 8, 4, 1, 8, 0, 9, 4, 4, 1, 4, 2, 4, 8, 9, 3, 6, 6, 1, 6, 2,\n",
              "        0, 9, 3, 8, 7, 9, 5, 3, 0, 4, 6, 1, 5, 1, 7, 9, 9, 0, 4, 4, 3, 7,\n",
              "        7, 0, 2, 2, 1, 3, 5, 7, 4, 6, 2, 0, 2, 5, 0, 4, 6, 3, 5, 9, 2, 0,\n",
              "        2, 3, 7, 5, 1, 6, 7, 5, 6, 9, 5, 9, 0, 6, 4, 1, 3, 6, 1, 9, 1, 4,\n",
              "        9, 1, 1, 7, 2, 8, 7, 9, 9, 5, 6, 4, 4, 3, 2, 0, 5, 1, 4, 0, 4, 5,\n",
              "        0, 5, 1, 7, 4, 0, 7, 1, 1, 8, 0, 9, 0, 3, 5, 3, 4, 2, 7, 8, 9, 6,\n",
              "        4, 5, 1, 5, 8, 8, 6, 6, 7, 6, 1, 6, 4, 1, 8, 7, 5, 4, 1, 8, 8, 7,\n",
              "        7, 8, 4, 8, 3, 2, 1, 1, 3, 2, 4, 8]))"
            ]
          },
          "metadata": {},
          "execution_count": 23
        }
      ]
    },
    {
      "cell_type": "code",
      "source": [
        "#RANDOM FOREST MODEL"
      ],
      "metadata": {
        "id": "4zNzsdbtgNgX"
      },
      "execution_count": null,
      "outputs": []
    },
    {
      "cell_type": "code",
      "source": [
        "from sklearn.ensemble import RandomForestClassifier"
      ],
      "metadata": {
        "id": "1d8FSdO3gNjx"
      },
      "execution_count": null,
      "outputs": []
    },
    {
      "cell_type": "code",
      "source": [
        "rf=RandomForestClassifier()"
      ],
      "metadata": {
        "id": "QlG1JWHvgbmk"
      },
      "execution_count": null,
      "outputs": []
    },
    {
      "cell_type": "code",
      "source": [
        "rf.fit(X_train,y_train)"
      ],
      "metadata": {
        "colab": {
          "base_uri": "https://localhost:8080/",
          "height": 75
        },
        "id": "NyR8sUIrgbqM",
        "outputId": "8a90fd8f-5d73-45a8-8e48-09cacec6932c"
      },
      "execution_count": null,
      "outputs": [
        {
          "output_type": "execute_result",
          "data": {
            "text/plain": [
              "RandomForestClassifier()"
            ],
            "text/html": [
              "<style>#sk-container-id-1 {color: black;background-color: white;}#sk-container-id-1 pre{padding: 0;}#sk-container-id-1 div.sk-toggleable {background-color: white;}#sk-container-id-1 label.sk-toggleable__label {cursor: pointer;display: block;width: 100%;margin-bottom: 0;padding: 0.3em;box-sizing: border-box;text-align: center;}#sk-container-id-1 label.sk-toggleable__label-arrow:before {content: \"▸\";float: left;margin-right: 0.25em;color: #696969;}#sk-container-id-1 label.sk-toggleable__label-arrow:hover:before {color: black;}#sk-container-id-1 div.sk-estimator:hover label.sk-toggleable__label-arrow:before {color: black;}#sk-container-id-1 div.sk-toggleable__content {max-height: 0;max-width: 0;overflow: hidden;text-align: left;background-color: #f0f8ff;}#sk-container-id-1 div.sk-toggleable__content pre {margin: 0.2em;color: black;border-radius: 0.25em;background-color: #f0f8ff;}#sk-container-id-1 input.sk-toggleable__control:checked~div.sk-toggleable__content {max-height: 200px;max-width: 100%;overflow: auto;}#sk-container-id-1 input.sk-toggleable__control:checked~label.sk-toggleable__label-arrow:before {content: \"▾\";}#sk-container-id-1 div.sk-estimator input.sk-toggleable__control:checked~label.sk-toggleable__label {background-color: #d4ebff;}#sk-container-id-1 div.sk-label input.sk-toggleable__control:checked~label.sk-toggleable__label {background-color: #d4ebff;}#sk-container-id-1 input.sk-hidden--visually {border: 0;clip: rect(1px 1px 1px 1px);clip: rect(1px, 1px, 1px, 1px);height: 1px;margin: -1px;overflow: hidden;padding: 0;position: absolute;width: 1px;}#sk-container-id-1 div.sk-estimator {font-family: monospace;background-color: #f0f8ff;border: 1px dotted black;border-radius: 0.25em;box-sizing: border-box;margin-bottom: 0.5em;}#sk-container-id-1 div.sk-estimator:hover {background-color: #d4ebff;}#sk-container-id-1 div.sk-parallel-item::after {content: \"\";width: 100%;border-bottom: 1px solid gray;flex-grow: 1;}#sk-container-id-1 div.sk-label:hover label.sk-toggleable__label {background-color: #d4ebff;}#sk-container-id-1 div.sk-serial::before {content: \"\";position: absolute;border-left: 1px solid gray;box-sizing: border-box;top: 0;bottom: 0;left: 50%;z-index: 0;}#sk-container-id-1 div.sk-serial {display: flex;flex-direction: column;align-items: center;background-color: white;padding-right: 0.2em;padding-left: 0.2em;position: relative;}#sk-container-id-1 div.sk-item {position: relative;z-index: 1;}#sk-container-id-1 div.sk-parallel {display: flex;align-items: stretch;justify-content: center;background-color: white;position: relative;}#sk-container-id-1 div.sk-item::before, #sk-container-id-1 div.sk-parallel-item::before {content: \"\";position: absolute;border-left: 1px solid gray;box-sizing: border-box;top: 0;bottom: 0;left: 50%;z-index: -1;}#sk-container-id-1 div.sk-parallel-item {display: flex;flex-direction: column;z-index: 1;position: relative;background-color: white;}#sk-container-id-1 div.sk-parallel-item:first-child::after {align-self: flex-end;width: 50%;}#sk-container-id-1 div.sk-parallel-item:last-child::after {align-self: flex-start;width: 50%;}#sk-container-id-1 div.sk-parallel-item:only-child::after {width: 0;}#sk-container-id-1 div.sk-dashed-wrapped {border: 1px dashed gray;margin: 0 0.4em 0.5em 0.4em;box-sizing: border-box;padding-bottom: 0.4em;background-color: white;}#sk-container-id-1 div.sk-label label {font-family: monospace;font-weight: bold;display: inline-block;line-height: 1.2em;}#sk-container-id-1 div.sk-label-container {text-align: center;}#sk-container-id-1 div.sk-container {/* jupyter's `normalize.less` sets `[hidden] { display: none; }` but bootstrap.min.css set `[hidden] { display: none !important; }` so we also need the `!important` here to be able to override the default hidden behavior on the sphinx rendered scikit-learn.org. See: https://github.com/scikit-learn/scikit-learn/issues/21755 */display: inline-block !important;position: relative;}#sk-container-id-1 div.sk-text-repr-fallback {display: none;}</style><div id=\"sk-container-id-1\" class=\"sk-top-container\"><div class=\"sk-text-repr-fallback\"><pre>RandomForestClassifier()</pre><b>In a Jupyter environment, please rerun this cell to show the HTML representation or trust the notebook. <br />On GitHub, the HTML representation is unable to render, please try loading this page with nbviewer.org.</b></div><div class=\"sk-container\" hidden><div class=\"sk-item\"><div class=\"sk-estimator sk-toggleable\"><input class=\"sk-toggleable__control sk-hidden--visually\" id=\"sk-estimator-id-1\" type=\"checkbox\" checked><label for=\"sk-estimator-id-1\" class=\"sk-toggleable__label sk-toggleable__label-arrow\">RandomForestClassifier</label><div class=\"sk-toggleable__content\"><pre>RandomForestClassifier()</pre></div></div></div></div></div>"
            ]
          },
          "metadata": {},
          "execution_count": 26
        }
      ]
    },
    {
      "cell_type": "code",
      "source": [
        "#PREDICT TEST DATA\n",
        "y_pred=rf.predict(X_test)"
      ],
      "metadata": {
        "id": "Z8sDXKmFgjXZ"
      },
      "execution_count": null,
      "outputs": []
    },
    {
      "cell_type": "code",
      "source": [
        "y_pred"
      ],
      "metadata": {
        "colab": {
          "base_uri": "https://localhost:8080/"
        },
        "id": "owWPpRp7gjaz",
        "outputId": "a4f5dab9-772b-46aa-e8d5-251fe5fb9383"
      },
      "execution_count": null,
      "outputs": [
        {
          "output_type": "execute_result",
          "data": {
            "text/plain": [
              "array([6, 7, 2, 6, 4, 8, 1, 2, 8, 9, 9, 6, 6, 6, 1, 1, 7, 1, 0, 6, 9, 7,\n",
              "       3, 2, 4, 5, 5, 0, 0, 9, 7, 5, 8, 9, 7, 6, 2, 4, 0, 8, 1, 2, 7, 7,\n",
              "       2, 8, 4, 7, 7, 6, 2, 9, 5, 0, 1, 8, 7, 1, 4, 8, 4, 1, 8, 5, 8, 0,\n",
              "       7, 1, 5, 5, 0, 4, 9, 6, 2, 0, 0, 2, 6, 1, 5, 1, 3, 4, 2, 9, 3, 4,\n",
              "       2, 4, 1, 1, 9, 5, 7, 5, 1, 6, 1, 3, 3, 2, 9, 5, 4, 0, 8, 5, 9, 9,\n",
              "       1, 8, 1, 2, 6, 0, 8, 1, 4, 4, 5, 4, 7, 8, 4, 6, 5, 0, 0, 3, 3, 0,\n",
              "       0, 7, 7, 3, 7, 7, 8, 1, 4, 6, 2, 2, 9, 3, 7, 5, 0, 3, 2, 9, 8, 3,\n",
              "       0, 2, 6, 6, 6, 6, 6, 5, 2, 6, 5, 9, 2, 5, 4, 2, 9, 6, 9, 5, 0, 4,\n",
              "       3, 8, 7, 4, 2, 7, 9, 1, 7, 2, 9, 5, 0, 5, 0, 6, 6, 8, 4, 9, 2, 3,\n",
              "       2, 5, 5, 0, 9, 5, 2, 7, 8, 1, 5, 7, 8, 5, 9, 1, 4, 8, 8, 4, 3, 0,\n",
              "       9, 3, 1, 7, 2, 5, 4, 2, 1, 8, 0, 2, 8, 9, 3, 2, 3, 6, 3, 7, 0, 2,\n",
              "       7, 8, 0, 6, 2, 3, 1, 3, 5, 3, 8, 3, 3, 7, 6, 6, 0, 1, 1, 5, 1, 7,\n",
              "       9, 1, 1, 8, 8, 5, 4, 0, 5, 3, 5, 4, 5, 4, 6, 2, 7, 7, 6, 4, 8, 7,\n",
              "       7, 0, 7, 1, 3, 4, 7, 4, 5, 3, 6, 6, 2, 5, 2, 2, 0, 0, 8, 3, 3, 0,\n",
              "       3, 1, 6, 4, 7, 3, 1, 4, 1, 6, 1, 3, 1, 4, 2, 0, 7, 1, 5, 1, 9, 7,\n",
              "       0, 0, 4, 2, 8, 7, 6, 7, 5, 4, 6, 7, 9, 8, 1, 7, 9, 2, 4, 5, 2, 9,\n",
              "       8, 1, 7, 9, 1, 3, 5, 9, 7, 4, 4, 6, 4, 7, 1, 3, 8, 0, 9, 5, 6, 1,\n",
              "       4, 7, 8, 4, 1, 8, 0, 9, 4, 4, 1, 4, 2, 4, 8, 9, 3, 6, 6, 1, 6, 2,\n",
              "       0, 9, 3, 8, 7, 3, 5, 3, 0, 4, 6, 1, 5, 1, 7, 9, 9, 0, 4, 4, 3, 7,\n",
              "       7, 0, 2, 2, 1, 3, 5, 7, 4, 6, 2, 0, 2, 5, 0, 4, 8, 3, 5, 9, 2, 0,\n",
              "       2, 3, 7, 5, 1, 6, 7, 5, 6, 9, 5, 9, 0, 6, 4, 1, 3, 6, 1, 9, 1, 4,\n",
              "       9, 1, 1, 7, 2, 8, 7, 9, 9, 5, 6, 4, 4, 3, 2, 0, 5, 1, 4, 0, 4, 9,\n",
              "       0, 5, 1, 7, 4, 0, 7, 1, 1, 8, 0, 9, 0, 3, 5, 3, 4, 2, 7, 8, 9, 6,\n",
              "       4, 5, 1, 5, 8, 8, 6, 6, 7, 6, 1, 6, 4, 1, 8, 7, 5, 4, 1, 8, 8, 7,\n",
              "       7, 1, 4, 8, 3, 2, 1, 1, 3, 2, 4, 8])"
            ]
          },
          "metadata": {},
          "execution_count": 28
        }
      ]
    },
    {
      "cell_type": "code",
      "source": [
        "#Model ACCURACY\n",
        "from sklearn.metrics import confusion_matrix,classification_report"
      ],
      "metadata": {
        "id": "-ggPhrHegtnm"
      },
      "execution_count": null,
      "outputs": []
    },
    {
      "cell_type": "code",
      "source": [
        "confusion_matrix(y_test,y_pred)"
      ],
      "metadata": {
        "colab": {
          "base_uri": "https://localhost:8080/"
        },
        "id": "4oF91OKugtrH",
        "outputId": "c26a7203-2515-4990-f10f-56e57f3c9da0"
      },
      "execution_count": null,
      "outputs": [
        {
          "output_type": "execute_result",
          "data": {
            "text/plain": [
              "array([[50,  0,  0,  0,  1,  0,  0,  0,  0,  0],\n",
              "       [ 0, 64,  0,  0,  0,  0,  0,  0,  0,  0],\n",
              "       [ 0,  0, 52,  0,  0,  0,  0,  0,  0,  0],\n",
              "       [ 0,  0,  0, 46,  0,  1,  0,  1,  0,  0],\n",
              "       [ 0,  0,  0,  0, 60,  0,  0,  1,  0,  0],\n",
              "       [ 0,  0,  0,  0,  1, 54,  0,  0,  0,  2],\n",
              "       [ 0,  0,  0,  0,  0,  0, 52,  0,  1,  0],\n",
              "       [ 0,  0,  0,  0,  0,  0,  0, 59,  0,  0],\n",
              "       [ 0,  2,  0,  0,  0,  0,  0,  0, 47,  0],\n",
              "       [ 0,  0,  0,  1,  0,  0,  0,  0,  0, 45]])"
            ]
          },
          "metadata": {},
          "execution_count": 30
        }
      ]
    },
    {
      "cell_type": "code",
      "source": [
        "print(classification_report(y_test,y_pred))"
      ],
      "metadata": {
        "colab": {
          "base_uri": "https://localhost:8080/"
        },
        "id": "1zDJaP6phAn9",
        "outputId": "501ee1c9-dcb4-45bb-af12-85f5012a2854"
      },
      "execution_count": null,
      "outputs": [
        {
          "output_type": "stream",
          "name": "stdout",
          "text": [
            "              precision    recall  f1-score   support\n",
            "\n",
            "           0       1.00      0.98      0.99        51\n",
            "           1       0.97      1.00      0.98        64\n",
            "           2       1.00      1.00      1.00        52\n",
            "           3       0.98      0.96      0.97        48\n",
            "           4       0.97      0.98      0.98        61\n",
            "           5       0.98      0.95      0.96        57\n",
            "           6       1.00      0.98      0.99        53\n",
            "           7       0.97      1.00      0.98        59\n",
            "           8       0.98      0.96      0.97        49\n",
            "           9       0.96      0.98      0.97        46\n",
            "\n",
            "    accuracy                           0.98       540\n",
            "   macro avg       0.98      0.98      0.98       540\n",
            "weighted avg       0.98      0.98      0.98       540\n",
            "\n"
          ]
        }
      ]
    }
  ]
}